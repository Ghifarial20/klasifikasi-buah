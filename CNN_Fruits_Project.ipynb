{
  "nbformat": 4,
  "nbformat_minor": 0,
  "metadata": {
    "colab": {
      "name": "CNN Fruits Project.ipynb",
      "provenance": []
    },
    "kernelspec": {
      "name": "python3",
      "display_name": "Python 3"
    },
    "language_info": {
      "name": "python"
    },
    "accelerator": "GPU"
  },
  "cells": [
    {
      "cell_type": "markdown",
      "metadata": {
        "id": "hXOSCpB3wmU_"
      },
      "source": [
        "Melakukan import library yang akan digunakan dalam project"
      ]
    },
    {
      "cell_type": "code",
      "metadata": {
        "id": "rlUswG_TwlKB"
      },
      "source": [
        "from sklearn.datasets import load_files\n",
        "import numpy as np\n",
        "import zipfile"
      ],
      "execution_count": null,
      "outputs": []
    },
    {
      "cell_type": "markdown",
      "metadata": {
        "id": "4rWxHX36wUfy"
      },
      "source": [
        "Melakukan ektraksi file zip dataset dari google drive setelah itu dimasukan ke dalam file tmp dari library zipfile"
      ]
    },
    {
      "cell_type": "code",
      "metadata": {
        "colab": {
          "base_uri": "https://localhost:8080/"
        },
        "id": "5fhcwXlVxZmw",
        "outputId": "ab9d1c0d-501c-4905-de59-0eb55c4fae2a"
      },
      "source": [
        "local_zip = '/content/drive/MyDrive/Colab Notebooks/fruits-360new.zip'\n",
        "zip_ref = zipfile.ZipFile(local_zip, 'r')\n",
        "zip_ref.extractall('/tmp')\n",
        "zip_ref.close()\n",
        "\n",
        "train_dir = '/tmp/fruits-360/Training'\n",
        "test_dir = '/tmp/fruits-360/Test'\n",
        "val_dir = '/tmp/fruits-360/Validation'\n",
        "\n",
        "#fungsi menggabungkan Gambar\n",
        "def load_dataset(path):\n",
        "    data = load_files(path)\n",
        "    files = np.array(data['filenames'])\n",
        "    targets = np.array(data['target'])\n",
        "    target_labels = np.array(data['target_names'])\n",
        "    return files,targets,target_labels\n",
        "    \n",
        "x_train, y_train,target_labels = load_dataset(train_dir)\n",
        "x_test, y_test,_ = load_dataset(test_dir)\n",
        "x_val, y_val,_ = load_dataset(val_dir)\n",
        "\n",
        "print('Training set size : ' , x_train.shape[0])\n",
        "print('Testing set size : ', x_test.shape[0])\n",
        "print('Validation set size : ', x_val.shape[0])"
      ],
      "execution_count": null,
      "outputs": [
        {
          "output_type": "stream",
          "text": [
            "Loading complete!\n",
            "Training set size :  8407\n",
            "Testing set size :  2812\n",
            "Validation set size :  2812\n"
          ],
          "name": "stdout"
        }
      ]
    },
    {
      "cell_type": "markdown",
      "metadata": {
        "id": "krVD91OAxI4w"
      },
      "source": [
        "Menghitung class yang ada di dalam dataset"
      ]
    },
    {
      "cell_type": "code",
      "metadata": {
        "colab": {
          "base_uri": "https://localhost:8080/"
        },
        "id": "aWbq9iwfxXr_",
        "outputId": "c744e98a-65fe-4245-8756-b33056f2b58a"
      },
      "source": [
        "#Hitung class yang ada\n",
        "no_of_classes = len(np.unique(y_train))\n",
        "no_of_classes"
      ],
      "execution_count": null,
      "outputs": [
        {
          "output_type": "execute_result",
          "data": {
            "text/plain": [
              "17"
            ]
          },
          "metadata": {
            "tags": []
          },
          "execution_count": 2
        }
      ]
    },
    {
      "cell_type": "markdown",
      "metadata": {
        "id": "lXAIy1RIxMxf"
      },
      "source": [
        "Mengonversi vektor class ke ke matrix biner"
      ]
    },
    {
      "cell_type": "code",
      "metadata": {
        "colab": {
          "base_uri": "https://localhost:8080/"
        },
        "id": "6YbAzFKSzp2y",
        "outputId": "fb307a57-6084-4a39-8bb2-14232a0827cf"
      },
      "source": [
        "from keras.utils import np_utils\n",
        "y_train = np_utils.to_categorical(y_train,no_of_classes)\n",
        "y_test = np_utils.to_categorical(y_test,no_of_classes)\n",
        "y_train[0]"
      ],
      "execution_count": null,
      "outputs": [
        {
          "output_type": "execute_result",
          "data": {
            "text/plain": [
              "array([0., 0., 0., 0., 0., 0., 0., 0., 0., 1., 0., 0., 0., 0., 0., 0., 0.],\n",
              "      dtype=float32)"
            ]
          },
          "metadata": {
            "tags": []
          },
          "execution_count": 3
        }
      ]
    },
    {
      "cell_type": "markdown",
      "metadata": {
        "id": "JwwsDTkeymap"
      },
      "source": [
        "Membagi set validasi menjadi set test dan validasi"
      ]
    },
    {
      "cell_type": "code",
      "metadata": {
        "colab": {
          "base_uri": "https://localhost:8080/"
        },
        "id": "yoq5gRACyc7T",
        "outputId": "0f5d2a79-44c0-41fd-8c8d-d0d55029ea81"
      },
      "source": [
        "x_test,x_valid = x_test[1406:],x_test[:1406]\n",
        "y_test,y_vaild = y_test[1406:],y_test[:1406]\n",
        "print('Vaildation X : ',x_valid.shape)\n",
        "print('Vaildation y :',y_vaild.shape)\n",
        "print('Test X : ',x_test.shape)\n",
        "print('Test y : ',y_test.shape)"
      ],
      "execution_count": null,
      "outputs": [
        {
          "output_type": "stream",
          "text": [
            "Vaildation X :  (1406,)\n",
            "Vaildation y : (1406, 17)\n",
            "Test X :  (1406,)\n",
            "Test y :  (1406, 17)\n"
          ],
          "name": "stdout"
        }
      ]
    },
    {
      "cell_type": "markdown",
      "metadata": {
        "id": "TurGhM7uy6yo"
      },
      "source": [
        "Mengonversi data citra menjadi array data array"
      ]
    },
    {
      "cell_type": "code",
      "metadata": {
        "colab": {
          "base_uri": "https://localhost:8080/"
        },
        "id": "4Naaceeb0HJk",
        "outputId": "14e92047-a6aa-4b26-a1c9-c30e7e603e34"
      },
      "source": [
        "from keras.preprocessing.image import array_to_img, img_to_array, load_img\n",
        "\n",
        "def convert_image_to_array(files):\n",
        "    images_as_array=[]\n",
        "    for file in files:\n",
        "        # konversi ke array\n",
        "        images_as_array.append(img_to_array(load_img(file)))\n",
        "    return images_as_array\n",
        "\n",
        "x_train = np.array(convert_image_to_array(x_train))\n",
        "print('Training set shape : ',x_train.shape)\n",
        "\n",
        "x_valid = np.array(convert_image_to_array(x_valid))\n",
        "print('Validation set shape : ',x_valid.shape)\n",
        "\n",
        "x_test = np.array(convert_image_to_array(x_test))\n",
        "print('Test set shape : ',x_test.shape)\n",
        "\n",
        "print('1st training image shape ',x_train[0].shape)"
      ],
      "execution_count": null,
      "outputs": [
        {
          "output_type": "stream",
          "text": [
            "Training set shape :  (8407, 100, 100, 3)\n",
            "Validation set shape :  (1406, 100, 100, 3)\n",
            "Test set shape :  (1406, 100, 100, 3)\n",
            "1st training image shape  (100, 100, 3)\n"
          ],
          "name": "stdout"
        }
      ]
    },
    {
      "cell_type": "markdown",
      "metadata": {
        "id": "mQjF-S7MzEYo"
      },
      "source": [
        "mengubah data array menjadi float dan di normalisasi dengan dibagi 255"
      ]
    },
    {
      "cell_type": "code",
      "metadata": {
        "id": "4s153ZVf0XGy"
      },
      "source": [
        "x_train = x_train.astype('float32')/255\n",
        "x_valid = x_valid.astype('float32')/255\n",
        "x_test = x_test.astype('float32')/255"
      ],
      "execution_count": null,
      "outputs": []
    },
    {
      "cell_type": "markdown",
      "metadata": {
        "id": "lQouaFwizTBA"
      },
      "source": [
        "Melakukan proses kovolusi layer dengan aktivasi relu, selanjutnya menggunakan max pooling sebagai subsampling layer, dan menggunakan aktivasi softmax"
      ]
    },
    {
      "cell_type": "code",
      "metadata": {
        "colab": {
          "base_uri": "https://localhost:8080/"
        },
        "id": "aNkbtV0q0u05",
        "outputId": "a10d4050-5c54-4b90-b5d3-014e16bd8d40"
      },
      "source": [
        "from keras.models import Sequential\n",
        "from keras.layers import Conv2D,MaxPooling2D\n",
        "from keras.layers import Activation, Dense, Flatten, Dropout\n",
        "from keras.preprocessing.image import ImageDataGenerator\n",
        "from keras.callbacks import ModelCheckpoint\n",
        "from keras import backend as K\n",
        "\n",
        "model = Sequential()\n",
        "#melakukan konvolusi layer dengan menggunakan ukuran  100 X 100\n",
        "model.add(Conv2D(filters = 16, kernel_size = 2,input_shape=(100,100,3),padding='same'))\n",
        "# menggunakan akitvasi relu untuk konvolusi layer\n",
        "model.add(Activation('relu'))\n",
        "model.add(MaxPooling2D(pool_size=2))\n",
        "model.add(Conv2D(filters = 32,kernel_size = 2,activation= 'relu',padding='same'))\n",
        "model.add(MaxPooling2D(pool_size=2))\n",
        "model.add(Conv2D(filters = 64,kernel_size = 2,activation= 'relu',padding='same'))\n",
        "model.add(MaxPooling2D(pool_size=2))\n",
        "model.add(Conv2D(filters = 128,kernel_size = 2,activation= 'relu',padding='same'))\n",
        "model.add(MaxPooling2D(pool_size=2))\n",
        "\n",
        "model.add(Dropout(0.3))\n",
        "model.add(Flatten())\n",
        "model.add(Dense(150))\n",
        "model.add(Activation('relu'))\n",
        "model.add(Dropout(0.4))\n",
        "model.add(Dense(17,activation = 'softmax'))\n",
        "model.summary()"
      ],
      "execution_count": null,
      "outputs": [
        {
          "output_type": "stream",
          "text": [
            "Model: \"sequential\"\n",
            "_________________________________________________________________\n",
            "Layer (type)                 Output Shape              Param #   \n",
            "=================================================================\n",
            "conv2d (Conv2D)              (None, 100, 100, 16)      208       \n",
            "_________________________________________________________________\n",
            "activation (Activation)      (None, 100, 100, 16)      0         \n",
            "_________________________________________________________________\n",
            "max_pooling2d (MaxPooling2D) (None, 50, 50, 16)        0         \n",
            "_________________________________________________________________\n",
            "conv2d_1 (Conv2D)            (None, 50, 50, 32)        2080      \n",
            "_________________________________________________________________\n",
            "max_pooling2d_1 (MaxPooling2 (None, 25, 25, 32)        0         \n",
            "_________________________________________________________________\n",
            "conv2d_2 (Conv2D)            (None, 25, 25, 64)        8256      \n",
            "_________________________________________________________________\n",
            "max_pooling2d_2 (MaxPooling2 (None, 12, 12, 64)        0         \n",
            "_________________________________________________________________\n",
            "conv2d_3 (Conv2D)            (None, 12, 12, 128)       32896     \n",
            "_________________________________________________________________\n",
            "max_pooling2d_3 (MaxPooling2 (None, 6, 6, 128)         0         \n",
            "_________________________________________________________________\n",
            "dropout (Dropout)            (None, 6, 6, 128)         0         \n",
            "_________________________________________________________________\n",
            "flatten (Flatten)            (None, 4608)              0         \n",
            "_________________________________________________________________\n",
            "dense (Dense)                (None, 150)               691350    \n",
            "_________________________________________________________________\n",
            "activation_1 (Activation)    (None, 150)               0         \n",
            "_________________________________________________________________\n",
            "dropout_1 (Dropout)          (None, 150)               0         \n",
            "_________________________________________________________________\n",
            "dense_1 (Dense)              (None, 17)                2567      \n",
            "=================================================================\n",
            "Total params: 737,357\n",
            "Trainable params: 737,357\n",
            "Non-trainable params: 0\n",
            "_________________________________________________________________\n"
          ],
          "name": "stdout"
        }
      ]
    },
    {
      "cell_type": "markdown",
      "metadata": {
        "id": "Qq9ocwQH0Hsh"
      },
      "source": [
        "Melakukan compile dengan menggunakan optimizer Adam"
      ]
    },
    {
      "cell_type": "code",
      "metadata": {
        "id": "cUBbmaGt1Tr7"
      },
      "source": [
        "model.compile(loss='categorical_crossentropy',\n",
        "              optimizer='Adam',\n",
        "              metrics=['accuracy'])"
      ],
      "execution_count": null,
      "outputs": []
    },
    {
      "cell_type": "markdown",
      "metadata": {
        "id": "GGyEV8uo0Nk5"
      },
      "source": [
        "Melakukan training sebanyak 25 epoch dengan menggunakan ukuran 20 batch"
      ]
    },
    {
      "cell_type": "code",
      "metadata": {
        "colab": {
          "base_uri": "https://localhost:8080/"
        },
        "id": "IYeGbwGD2C1o",
        "outputId": "f71b6a31-c9bc-49a4-dba1-eb2f4477e152"
      },
      "source": [
        "checkpointer = ModelCheckpoint(filepath = 'cnn_fruits_project.hdf5', verbose = 1, save_best_only = True)\n",
        "\n",
        "history = model.fit(x_train,y_train,\n",
        "        batch_size = 20,\n",
        "        epochs=25,\n",
        "        validation_data=(x_valid, y_vaild),\n",
        "        callbacks = [checkpointer],\n",
        "        verbose=2, shuffle=True)"
      ],
      "execution_count": null,
      "outputs": [
        {
          "output_type": "stream",
          "text": [
            "Epoch 1/25\n",
            "421/421 - 46s - loss: 0.5491 - accuracy: 0.8137 - val_loss: 0.2448 - val_accuracy: 0.9573\n",
            "\n",
            "Epoch 00001: val_loss improved from inf to 0.24479, saving model to cnn_fruits_project.hdf5\n",
            "Epoch 2/25\n",
            "421/421 - 2s - loss: 0.0505 - accuracy: 0.9826 - val_loss: 0.1951 - val_accuracy: 0.9509\n",
            "\n",
            "Epoch 00002: val_loss improved from 0.24479 to 0.19514, saving model to cnn_fruits_project.hdf5\n",
            "Epoch 3/25\n",
            "421/421 - 2s - loss: 0.0379 - accuracy: 0.9883 - val_loss: 0.3408 - val_accuracy: 0.9609\n",
            "\n",
            "Epoch 00003: val_loss did not improve from 0.19514\n",
            "Epoch 4/25\n",
            "421/421 - 2s - loss: 0.0252 - accuracy: 0.9920 - val_loss: 0.3642 - val_accuracy: 0.9459\n",
            "\n",
            "Epoch 00004: val_loss did not improve from 0.19514\n",
            "Epoch 5/25\n",
            "421/421 - 2s - loss: 0.0346 - accuracy: 0.9902 - val_loss: 0.1943 - val_accuracy: 0.9687\n",
            "\n",
            "Epoch 00005: val_loss improved from 0.19514 to 0.19431, saving model to cnn_fruits_project.hdf5\n",
            "Epoch 6/25\n",
            "421/421 - 2s - loss: 0.0228 - accuracy: 0.9941 - val_loss: 0.2390 - val_accuracy: 0.9623\n",
            "\n",
            "Epoch 00006: val_loss did not improve from 0.19431\n",
            "Epoch 7/25\n",
            "421/421 - 2s - loss: 0.0049 - accuracy: 0.9982 - val_loss: 0.3044 - val_accuracy: 0.9716\n",
            "\n",
            "Epoch 00007: val_loss did not improve from 0.19431\n",
            "Epoch 8/25\n",
            "421/421 - 2s - loss: 0.0175 - accuracy: 0.9949 - val_loss: 0.2916 - val_accuracy: 0.9744\n",
            "\n",
            "Epoch 00008: val_loss did not improve from 0.19431\n",
            "Epoch 9/25\n",
            "421/421 - 2s - loss: 0.0086 - accuracy: 0.9970 - val_loss: 0.2877 - val_accuracy: 0.9701\n",
            "\n",
            "Epoch 00009: val_loss did not improve from 0.19431\n",
            "Epoch 10/25\n",
            "421/421 - 2s - loss: 0.0213 - accuracy: 0.9927 - val_loss: 0.2706 - val_accuracy: 0.9666\n",
            "\n",
            "Epoch 00010: val_loss did not improve from 0.19431\n",
            "Epoch 11/25\n",
            "421/421 - 2s - loss: 0.0025 - accuracy: 0.9989 - val_loss: 0.3743 - val_accuracy: 0.9694\n",
            "\n",
            "Epoch 00011: val_loss did not improve from 0.19431\n",
            "Epoch 12/25\n",
            "421/421 - 2s - loss: 0.0245 - accuracy: 0.9945 - val_loss: 0.2564 - val_accuracy: 0.9758\n",
            "\n",
            "Epoch 00012: val_loss did not improve from 0.19431\n",
            "Epoch 13/25\n",
            "421/421 - 2s - loss: 0.0041 - accuracy: 0.9987 - val_loss: 0.3590 - val_accuracy: 0.9744\n",
            "\n",
            "Epoch 00013: val_loss did not improve from 0.19431\n",
            "Epoch 14/25\n",
            "421/421 - 2s - loss: 0.0133 - accuracy: 0.9960 - val_loss: 0.2959 - val_accuracy: 0.9765\n",
            "\n",
            "Epoch 00014: val_loss did not improve from 0.19431\n",
            "Epoch 15/25\n",
            "421/421 - 2s - loss: 0.0020 - accuracy: 0.9998 - val_loss: 0.3270 - val_accuracy: 0.9765\n",
            "\n",
            "Epoch 00015: val_loss did not improve from 0.19431\n",
            "Epoch 16/25\n",
            "421/421 - 2s - loss: 0.0163 - accuracy: 0.9950 - val_loss: 0.3936 - val_accuracy: 0.9410\n",
            "\n",
            "Epoch 00016: val_loss did not improve from 0.19431\n",
            "Epoch 17/25\n",
            "421/421 - 2s - loss: 0.0054 - accuracy: 0.9980 - val_loss: 0.4028 - val_accuracy: 0.9723\n",
            "\n",
            "Epoch 00017: val_loss did not improve from 0.19431\n",
            "Epoch 18/25\n",
            "421/421 - 2s - loss: 0.0061 - accuracy: 0.9977 - val_loss: 0.2944 - val_accuracy: 0.9545\n",
            "\n",
            "Epoch 00018: val_loss did not improve from 0.19431\n",
            "Epoch 19/25\n",
            "421/421 - 2s - loss: 0.0249 - accuracy: 0.9939 - val_loss: 0.2303 - val_accuracy: 0.9566\n",
            "\n",
            "Epoch 00019: val_loss did not improve from 0.19431\n",
            "Epoch 20/25\n",
            "421/421 - 2s - loss: 0.0094 - accuracy: 0.9964 - val_loss: 0.2918 - val_accuracy: 0.9651\n",
            "\n",
            "Epoch 00020: val_loss did not improve from 0.19431\n",
            "Epoch 21/25\n",
            "421/421 - 2s - loss: 0.0021 - accuracy: 0.9993 - val_loss: 0.3546 - val_accuracy: 0.9694\n",
            "\n",
            "Epoch 00021: val_loss did not improve from 0.19431\n",
            "Epoch 22/25\n",
            "421/421 - 2s - loss: 0.0052 - accuracy: 0.9985 - val_loss: 0.4808 - val_accuracy: 0.9673\n",
            "\n",
            "Epoch 00022: val_loss did not improve from 0.19431\n",
            "Epoch 23/25\n",
            "421/421 - 2s - loss: 0.0021 - accuracy: 0.9994 - val_loss: 0.4651 - val_accuracy: 0.9673\n",
            "\n",
            "Epoch 00023: val_loss did not improve from 0.19431\n",
            "Epoch 24/25\n",
            "421/421 - 2s - loss: 4.0266e-04 - accuracy: 1.0000 - val_loss: 0.4722 - val_accuracy: 0.9659\n",
            "\n",
            "Epoch 00024: val_loss did not improve from 0.19431\n",
            "Epoch 25/25\n",
            "421/421 - 2s - loss: 1.7305e-04 - accuracy: 1.0000 - val_loss: 0.4656 - val_accuracy: 0.9723\n",
            "\n",
            "Epoch 00025: val_loss did not improve from 0.19431\n"
          ],
          "name": "stdout"
        }
      ]
    },
    {
      "cell_type": "markdown",
      "metadata": {
        "id": "2elcCV2y0kzH"
      },
      "source": [
        "Memuat data yang mendapatkan akurasi validasi terbaik"
      ]
    },
    {
      "cell_type": "code",
      "metadata": {
        "id": "HYUnKItZ92bF"
      },
      "source": [
        "model.load_weights('cnn_fruits_project.hdf5')"
      ],
      "execution_count": null,
      "outputs": []
    },
    {
      "cell_type": "markdown",
      "metadata": {
        "id": "i7odJo9S0sH3"
      },
      "source": [
        "Evaluasi akurasi test"
      ]
    },
    {
      "cell_type": "code",
      "metadata": {
        "colab": {
          "base_uri": "https://localhost:8080/"
        },
        "id": "9quTQc6y97lZ",
        "outputId": "7b5c4585-4e2d-4064-85bd-4c78d0422dab"
      },
      "source": [
        "score = model.evaluate(x_test, y_test, verbose=0)\n",
        "print('\\n', 'Test accuracy:', score[1])"
      ],
      "execution_count": null,
      "outputs": [
        {
          "output_type": "stream",
          "text": [
            "\n",
            " Test accuracy: 0.9729729890823364\n"
          ],
          "name": "stdout"
        }
      ]
    },
    {
      "cell_type": "markdown",
      "metadata": {
        "id": "Zr4Eq2l7021Q"
      },
      "source": [
        "Menampilkan hasil akurasi validasi setiap epochnya"
      ]
    },
    {
      "cell_type": "code",
      "metadata": {
        "colab": {
          "base_uri": "https://localhost:8080/",
          "height": 194
        },
        "id": "3wox56Rw9_qR",
        "outputId": "72aad3e0-25e9-40d4-cb3b-8af398032f3e"
      },
      "source": [
        "import matplotlib.pyplot as plt \n",
        "plt.figure(1)  \n",
        "   \n",
        "plt.subplot(211)  \n",
        "plt.plot(history.history['accuracy'])  \n",
        "plt.plot(history.history['val_accuracy'])  \n",
        "plt.title('model accuracy')  \n",
        "plt.ylabel('accuracy')  \n",
        "plt.xlabel('epoch')  \n",
        "plt.legend(['train', 'test'], loc='upper left')  \n",
        "   \n"
      ],
      "execution_count": null,
      "outputs": [
        {
          "output_type": "execute_result",
          "data": {
            "text/plain": [
              "<matplotlib.legend.Legend at 0x7f4a1421ee90>"
            ]
          },
          "metadata": {
            "tags": []
          },
          "execution_count": 12
        },
        {
          "output_type": "display_data",
          "data": {
            "image/png": "[encoded data removed]",
            "text/plain": [
              "<Figure size 432x288 with 1 Axes>"
            ]
          },
          "metadata": {
            "tags": [],
            "needs_background": "light"
          }
        }
      ]
    },
    {
      "cell_type": "markdown",
      "metadata": {
        "id": "1wDfOdKB1EWo"
      },
      "source": [
        "Menampilan hasil loss setiap epochnya"
      ]
    },
    {
      "cell_type": "code",
      "metadata": {
        "id": "PJQIgrJBzIgp",
        "colab": {
          "base_uri": "https://localhost:8080/",
          "height": 177
        },
        "outputId": "b08bf11e-a922-4c0b-d70c-8fe6ebc7684d"
      },
      "source": [
        "plt.subplot(212)  \n",
        "plt.plot(history.history['loss'])  \n",
        "plt.plot(history.history['val_loss'])  \n",
        "plt.title('model loss')  \n",
        "plt.ylabel('loss')  \n",
        "plt.xlabel('epoch')  \n",
        "plt.legend(['train', 'test'], loc='upper left')  \n",
        "plt.show()"
      ],
      "execution_count": null,
      "outputs": [
        {
          "output_type": "display_data",
          "data": {
            "image/png": "[encoded data removed]",
            "text/plain": [
              "<Figure size 432x288 with 1 Axes>"
            ]
          },
          "metadata": {
            "tags": [],
            "needs_background": "light"
          }
        }
      ]
    },
    {
      "cell_type": "markdown",
      "metadata": {
        "id": "7Yk9OP6v1IFo"
      },
      "source": [
        "Melakukan evaluasi model dengan menggunakan confusion matrix"
      ]
    },
    {
      "cell_type": "code",
      "metadata": {
        "colab": {
          "base_uri": "https://localhost:8080/"
        },
        "id": "taP462xDrDoC",
        "outputId": "7fbd6218-6cfc-42ae-9abd-c32a3b71b221"
      },
      "source": [
        "import matplotlib.pyplot as plt\n",
        "from sklearn.metrics import confusion_matrix,classification_report\n",
        "print(\"====Laporan Hasil Menggunakan CNN====\")\n",
        "print(\"Confusion Matrix:\")\n",
        "y_pred=model.predict(x_valid)\n",
        "y_pred_classes=np.argmax(y_pred,axis=1)\n",
        "y_true=np.argmax(y_vaild,axis=1)\n",
        "print(confusion_matrix(y_true,y_pred_classes))\n",
        "print()\n",
        "print(classification_report(y_true,y_pred_classes))\n",
        "print(\"Akurasi score:\",score[1])"
      ],
      "execution_count": null,
      "outputs": [
        {
          "output_type": "stream",
          "text": [
            "====Laporan Hasil Menggunakan CNN====\n",
            "Confusion Matrix:\n",
            "[[ 87   0   0   0   0   0   0   0   0   0   0   0   0   0   0   0   0]\n",
            " [  0  72   0   0   0   0   0   0   0   0   0   0   0   0   0   0   0]\n",
            " [  0   0  70   0   0   4   0   0   0   0   0   0   0   0   0   0   0]\n",
            " [  0   0   0  84   0   0   0   0   0   0   0   0   0   0   0   0   0]\n",
            " [  0   0   0   0 118   0   0   0   0   0   0   0   0   0   0   0   0]\n",
            " [  0   0   0   0   0  43  20   0  18   0   0   0   0   0   0   0   0]\n",
            " [  0   0   0   0   0   0  90   0   0   0   0   0   0   0   0   0   0]\n",
            " [  0   0   0   0   0   0   0  78   0   0   0   0   0   0   0   0   0]\n",
            " [  0   0   0   0   0   0   0   0  73   0   0   0   0   0   0   0   0]\n",
            " [  0   0   0   0   0   0   0   0   0  79   0   0   0   0   0   0   0]\n",
            " [  0   0   0   0   0   0   0   0   0   0  73   0   0   0   0   0   0]\n",
            " [  0   0   0   0   0   0   0   0   0   0   0  70   0   0   0   0   0]\n",
            " [  0   0   0   0   0   0   0   2   0   0   0   0  81   0   0   0   0]\n",
            " [  0   0   0   0   0   0   0   0   0   0   0   0   0  88   0   0   0]\n",
            " [  0   0   0   0   0   0   0   0   0   0   0   0   0   0  84   0   0]\n",
            " [  0   0   0   0   0   0   0   0   0   0   0   0   0   0   0  89   0]\n",
            " [  0   0   0   0   0   0   0   0   0   0   0   0   0   0   0   0  83]]\n",
            "\n",
            "              precision    recall  f1-score   support\n",
            "\n",
            "           0       1.00      1.00      1.00        87\n",
            "           1       1.00      1.00      1.00        72\n",
            "           2       1.00      0.95      0.97        74\n",
            "           3       1.00      1.00      1.00        84\n",
            "           4       1.00      1.00      1.00       118\n",
            "           5       0.91      0.53      0.67        81\n",
            "           6       0.82      1.00      0.90        90\n",
            "           7       0.97      1.00      0.99        78\n",
            "           8       0.80      1.00      0.89        73\n",
            "           9       1.00      1.00      1.00        79\n",
            "          10       1.00      1.00      1.00        73\n",
            "          11       1.00      1.00      1.00        70\n",
            "          12       1.00      0.98      0.99        83\n",
            "          13       1.00      1.00      1.00        88\n",
            "          14       1.00      1.00      1.00        84\n",
            "          15       1.00      1.00      1.00        89\n",
            "          16       1.00      1.00      1.00        83\n",
            "\n",
            "    accuracy                           0.97      1406\n",
            "   macro avg       0.97      0.97      0.97      1406\n",
            "weighted avg       0.97      0.97      0.97      1406\n",
            "\n",
            "Akurasi score: 0.9729729890823364\n"
          ],
          "name": "stdout"
        }
      ]
    }
  ]
}